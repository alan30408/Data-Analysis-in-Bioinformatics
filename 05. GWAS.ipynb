{
 "cells": [
  {
   "cell_type": "markdown",
   "metadata": {},
   "source": [
    "# Today's topics\n",
    "We will try to find out which phenotypic traits are associated with genetic markers in the BXD mouse population. This will allow us to make statements about the level of heritability of several traits and help us identify candidate genes responsible for specific traits.\n",
    "\n",
    "There are several types of studies relevant in this context:\n",
    "\n",
    "* Single gene association studies\n",
    "* Genome wide association studies\n",
    "* Phenome wide association studies\n",
    "\n",
    "Today we'll perform a genome-wide association study. In particular, we will investigate which SNPs are associated with the coat color of mice."
   ]
  },
  {
   "cell_type": "markdown",
   "metadata": {},
   "source": [
    "## Imports"
   ]
  },
  {
   "cell_type": "code",
   "execution_count": 1,
   "metadata": {},
   "outputs": [],
   "source": [
    "import pandas as pd\n",
    "import numpy as np\n",
    "import seaborn as sns\n",
    "import matplotlib.pyplot as plt"
   ]
  },
  {
   "cell_type": "markdown",
   "metadata": {},
   "source": [
    "## Load genotype data\n",
    "To ensure that we all use the same input data, we provide the code you should load the genotype information with, just update the genotype tsv file's path to where you stored it on your system.\n",
    "\n",
    "We split the table into metadata (`geno_meta`) and genotype data (`geno_BHD`) parts and index them with the `Locus` identifier."
   ]
  },
  {
   "cell_type": "code",
   "execution_count": 2,
   "metadata": {},
   "outputs": [],
   "source": [
    "# read genotype data\n",
    "genotype = pd.read_csv(\"../example_data/aad0189_DataFileS4.txt\", sep=\"\\t\", comment=\"@\")\n",
    "genotype.set_index(\"Locus\", inplace=True)\n",
    "geno_meta = genotype.iloc[:, :3]  # 3 because we had just moved the \"Locus\" column into the index\n",
    "geno_bdh = genotype.iloc[:, 3:]"
   ]
  },
  {
   "cell_type": "markdown",
   "metadata": {},
   "source": [
    "### Remove strains with a lot of missing genotype values\n",
    "Before you convert the B/D/H/U labels to numeric, find the main culprits for the U (unknown) labels.\n",
    "Only keep strains with less than 10 unknown loci and put them in `geno_bdh2`. Which strains did you have to remove?"
   ]
  },
  {
   "cell_type": "code",
   "execution_count": 3,
   "metadata": {},
   "outputs": [
    {
     "name": "stdout",
     "output_type": "stream",
     "text": [
      "The strain I remove:\n",
      "['BXD73b', 'BXD101', 'BXD102']\n"
     ]
    }
   ],
   "source": [
    "# find strain less than 10 unknown loci (U) \n",
    "geno_bdh2 = geno_bdh.loc[:,geno_bdh.apply(pd.value_counts).fillna(0).loc['U'] < 10]\n",
    "print(\"The strain I remove:\")\n",
    "print(geno_bdh.loc[:, geno_bdh.apply(pd.value_counts).fillna(0).loc['U'] >= 10].columns.to_list())\n",
    "\n",
    "## another good way to go it.\n",
    "geno_bdh2 = geno_bdh.loc[:, (geno_bdh == 'U').sum() < 10]"
   ]
  },
  {
   "cell_type": "markdown",
   "metadata": {},
   "source": [
    "### Replace categorical genotype labels with numerical encoding\n",
    "\n",
    "Unlike yesterday, we will use `{B: 0, H: 1, D: 2, U: 1}` encoding for the genotypes. Due to the previous step where we discarded strains with a lot of missing data, we have very few unknowns left, so it's acceptable to treat them as the intermediate heterozygous genotype instead of missing values. Call the numerical genotype dataframe `geno`."
   ]
  },
  {
   "cell_type": "code",
   "execution_count": 4,
   "metadata": {},
   "outputs": [
    {
     "data": {
      "text/html": [
       "<div>\n",
       "<style scoped>\n",
       "    .dataframe tbody tr th:only-of-type {\n",
       "        vertical-align: middle;\n",
       "    }\n",
       "\n",
       "    .dataframe tbody tr th {\n",
       "        vertical-align: top;\n",
       "    }\n",
       "\n",
       "    .dataframe thead th {\n",
       "        text-align: right;\n",
       "    }\n",
       "</style>\n",
       "<table border=\"1\" class=\"dataframe\">\n",
       "  <thead>\n",
       "    <tr style=\"text-align: right;\">\n",
       "      <th></th>\n",
       "      <th>BXD1</th>\n",
       "      <th>BXD2</th>\n",
       "      <th>BXD5</th>\n",
       "      <th>BXD6</th>\n",
       "      <th>BXD8</th>\n",
       "      <th>BXD9</th>\n",
       "      <th>BXD11</th>\n",
       "      <th>BXD12</th>\n",
       "      <th>BXD13</th>\n",
       "      <th>BXD14</th>\n",
       "      <th>...</th>\n",
       "      <th>BXD88</th>\n",
       "      <th>BXD89</th>\n",
       "      <th>BXD90</th>\n",
       "      <th>BXD91</th>\n",
       "      <th>BXD93</th>\n",
       "      <th>BXD94</th>\n",
       "      <th>BXD95</th>\n",
       "      <th>BXD98</th>\n",
       "      <th>BXD99</th>\n",
       "      <th>BXD100</th>\n",
       "    </tr>\n",
       "    <tr>\n",
       "      <th>Locus</th>\n",
       "      <th></th>\n",
       "      <th></th>\n",
       "      <th></th>\n",
       "      <th></th>\n",
       "      <th></th>\n",
       "      <th></th>\n",
       "      <th></th>\n",
       "      <th></th>\n",
       "      <th></th>\n",
       "      <th></th>\n",
       "      <th></th>\n",
       "      <th></th>\n",
       "      <th></th>\n",
       "      <th></th>\n",
       "      <th></th>\n",
       "      <th></th>\n",
       "      <th></th>\n",
       "      <th></th>\n",
       "      <th></th>\n",
       "      <th></th>\n",
       "      <th></th>\n",
       "    </tr>\n",
       "  </thead>\n",
       "  <tbody>\n",
       "    <tr>\n",
       "      <th>rs6269442</th>\n",
       "      <td>0</td>\n",
       "      <td>0</td>\n",
       "      <td>2</td>\n",
       "      <td>2</td>\n",
       "      <td>2</td>\n",
       "      <td>0</td>\n",
       "      <td>0</td>\n",
       "      <td>2</td>\n",
       "      <td>0</td>\n",
       "      <td>0</td>\n",
       "      <td>...</td>\n",
       "      <td>2</td>\n",
       "      <td>0</td>\n",
       "      <td>0</td>\n",
       "      <td>2</td>\n",
       "      <td>0</td>\n",
       "      <td>2</td>\n",
       "      <td>2</td>\n",
       "      <td>0</td>\n",
       "      <td>0</td>\n",
       "      <td>0</td>\n",
       "    </tr>\n",
       "    <tr>\n",
       "      <th>rs6365999</th>\n",
       "      <td>0</td>\n",
       "      <td>0</td>\n",
       "      <td>2</td>\n",
       "      <td>2</td>\n",
       "      <td>2</td>\n",
       "      <td>0</td>\n",
       "      <td>0</td>\n",
       "      <td>2</td>\n",
       "      <td>0</td>\n",
       "      <td>0</td>\n",
       "      <td>...</td>\n",
       "      <td>2</td>\n",
       "      <td>0</td>\n",
       "      <td>0</td>\n",
       "      <td>2</td>\n",
       "      <td>0</td>\n",
       "      <td>2</td>\n",
       "      <td>2</td>\n",
       "      <td>0</td>\n",
       "      <td>0</td>\n",
       "      <td>0</td>\n",
       "    </tr>\n",
       "    <tr>\n",
       "      <th>rs6376963</th>\n",
       "      <td>0</td>\n",
       "      <td>0</td>\n",
       "      <td>2</td>\n",
       "      <td>2</td>\n",
       "      <td>2</td>\n",
       "      <td>0</td>\n",
       "      <td>0</td>\n",
       "      <td>2</td>\n",
       "      <td>0</td>\n",
       "      <td>0</td>\n",
       "      <td>...</td>\n",
       "      <td>2</td>\n",
       "      <td>0</td>\n",
       "      <td>0</td>\n",
       "      <td>2</td>\n",
       "      <td>0</td>\n",
       "      <td>2</td>\n",
       "      <td>2</td>\n",
       "      <td>0</td>\n",
       "      <td>0</td>\n",
       "      <td>0</td>\n",
       "    </tr>\n",
       "    <tr>\n",
       "      <th>rs3677817</th>\n",
       "      <td>0</td>\n",
       "      <td>0</td>\n",
       "      <td>2</td>\n",
       "      <td>2</td>\n",
       "      <td>2</td>\n",
       "      <td>0</td>\n",
       "      <td>0</td>\n",
       "      <td>2</td>\n",
       "      <td>0</td>\n",
       "      <td>0</td>\n",
       "      <td>...</td>\n",
       "      <td>2</td>\n",
       "      <td>0</td>\n",
       "      <td>0</td>\n",
       "      <td>2</td>\n",
       "      <td>0</td>\n",
       "      <td>2</td>\n",
       "      <td>2</td>\n",
       "      <td>0</td>\n",
       "      <td>0</td>\n",
       "      <td>0</td>\n",
       "    </tr>\n",
       "    <tr>\n",
       "      <th>rs8236463</th>\n",
       "      <td>0</td>\n",
       "      <td>0</td>\n",
       "      <td>2</td>\n",
       "      <td>2</td>\n",
       "      <td>2</td>\n",
       "      <td>0</td>\n",
       "      <td>2</td>\n",
       "      <td>2</td>\n",
       "      <td>0</td>\n",
       "      <td>0</td>\n",
       "      <td>...</td>\n",
       "      <td>2</td>\n",
       "      <td>0</td>\n",
       "      <td>0</td>\n",
       "      <td>2</td>\n",
       "      <td>0</td>\n",
       "      <td>2</td>\n",
       "      <td>2</td>\n",
       "      <td>0</td>\n",
       "      <td>0</td>\n",
       "      <td>0</td>\n",
       "    </tr>\n",
       "  </tbody>\n",
       "</table>\n",
       "<p>5 rows × 90 columns</p>\n",
       "</div>"
      ],
      "text/plain": [
       "           BXD1  BXD2  BXD5  BXD6  BXD8  BXD9  BXD11  BXD12  BXD13  BXD14  \\\n",
       "Locus                                                                       \n",
       "rs6269442     0     0     2     2     2     0      0      2      0      0   \n",
       "rs6365999     0     0     2     2     2     0      0      2      0      0   \n",
       "rs6376963     0     0     2     2     2     0      0      2      0      0   \n",
       "rs3677817     0     0     2     2     2     0      0      2      0      0   \n",
       "rs8236463     0     0     2     2     2     0      2      2      0      0   \n",
       "\n",
       "           ...  BXD88  BXD89  BXD90  BXD91  BXD93  BXD94  BXD95  BXD98  BXD99  \\\n",
       "Locus      ...                                                                  \n",
       "rs6269442  ...      2      0      0      2      0      2      2      0      0   \n",
       "rs6365999  ...      2      0      0      2      0      2      2      0      0   \n",
       "rs6376963  ...      2      0      0      2      0      2      2      0      0   \n",
       "rs3677817  ...      2      0      0      2      0      2      2      0      0   \n",
       "rs8236463  ...      2      0      0      2      0      2      2      0      0   \n",
       "\n",
       "           BXD100  \n",
       "Locus              \n",
       "rs6269442       0  \n",
       "rs6365999       0  \n",
       "rs6376963       0  \n",
       "rs3677817       0  \n",
       "rs8236463       0  \n",
       "\n",
       "[5 rows x 90 columns]"
      ]
     },
     "execution_count": 4,
     "metadata": {},
     "output_type": "execute_result"
    }
   ],
   "source": [
    "geno = geno_bdh2.replace({'B': 0, 'H': 1, 'D': 2, 'U': 1})\n",
    "geno.head()"
   ]
  },
  {
   "cell_type": "markdown",
   "metadata": {},
   "source": [
    "## Download coat color information from genenetworks.org"
   ]
  },
  {
   "cell_type": "markdown",
   "metadata": {},
   "source": [
    "Most mouse phenotype data is available at genenetwork.org. This includes nearly all published phenotype measurements. You can access individual measurements from that repository using the search mask:\n",
    "1. Go to http://gn2.genenetwork.org/\n",
    "2. In \"Select and Search\" fill in:\n",
    "    1. Species: Mouse\n",
    "    2. Group: BXD RI Family\n",
    "    3. Type: Phenotypes\n",
    "    4. Dataset: BXD Published Phenotypes\n",
    "3. Enter the trait of interest in the \"Get any\" field\n",
    "4. Search\n",
    "\n",
    "For getting data on the coat color of BXD mice use \"coat color\" as search term and select the Record __11280__ to get to the corresponding __Trait Data and Analysis__ page. There you can export the data as a CSV file."
   ]
  },
  {
   "cell_type": "markdown",
   "metadata": {
    "collapsed": true,
    "run_control": {
     "frozen": false,
     "read_only": false
    }
   },
   "source": [
    "## Load coat color data"
   ]
  },
  {
   "cell_type": "markdown",
   "metadata": {},
   "source": [
    "On the coat color data description page you saw that the colors had already been numerically encoded, so you don't have to convert it yourself. But keep an eye out for missing values and remove them. For future reference, the color encoding was:\n",
    "\n",
    "|color  | value  |\n",
    "|-------|--------|\n",
    "| black |  4     |\n",
    "| grey  |  3     |\n",
    "| brown |  2     |\n",
    "| dilute|  1     |"
   ]
  },
  {
   "cell_type": "code",
   "execution_count": 5,
   "metadata": {
    "run_control": {
     "frozen": false,
     "read_only": false
    }
   },
   "outputs": [
    {
     "data": {
      "text/html": [
       "<div>\n",
       "<style scoped>\n",
       "    .dataframe tbody tr th:only-of-type {\n",
       "        vertical-align: middle;\n",
       "    }\n",
       "\n",
       "    .dataframe tbody tr th {\n",
       "        vertical-align: top;\n",
       "    }\n",
       "\n",
       "    .dataframe thead th {\n",
       "        text-align: right;\n",
       "    }\n",
       "</style>\n",
       "<table border=\"1\" class=\"dataframe\">\n",
       "  <thead>\n",
       "    <tr style=\"text-align: right;\">\n",
       "      <th></th>\n",
       "      <th>color</th>\n",
       "    </tr>\n",
       "    <tr>\n",
       "      <th>strain</th>\n",
       "      <th></th>\n",
       "    </tr>\n",
       "  </thead>\n",
       "  <tbody>\n",
       "    <tr>\n",
       "      <th>C57BL/6J</th>\n",
       "      <td>4.0</td>\n",
       "    </tr>\n",
       "    <tr>\n",
       "      <th>DBA/2J</th>\n",
       "      <td>1.0</td>\n",
       "    </tr>\n",
       "    <tr>\n",
       "      <th>B6D2F1</th>\n",
       "      <td>4.0</td>\n",
       "    </tr>\n",
       "    <tr>\n",
       "      <th>D2B6F1</th>\n",
       "      <td>4.0</td>\n",
       "    </tr>\n",
       "    <tr>\n",
       "      <th>BXD1</th>\n",
       "      <td>1.0</td>\n",
       "    </tr>\n",
       "    <tr>\n",
       "      <th>...</th>\n",
       "      <td>...</td>\n",
       "    </tr>\n",
       "    <tr>\n",
       "      <th>BXD98</th>\n",
       "      <td>1.0</td>\n",
       "    </tr>\n",
       "    <tr>\n",
       "      <th>BXD99</th>\n",
       "      <td>1.0</td>\n",
       "    </tr>\n",
       "    <tr>\n",
       "      <th>BXD100</th>\n",
       "      <td>4.0</td>\n",
       "    </tr>\n",
       "    <tr>\n",
       "      <th>BXD101</th>\n",
       "      <td>3.0</td>\n",
       "    </tr>\n",
       "    <tr>\n",
       "      <th>BXD102</th>\n",
       "      <td>2.0</td>\n",
       "    </tr>\n",
       "  </tbody>\n",
       "</table>\n",
       "<p>94 rows × 1 columns</p>\n",
       "</div>"
      ],
      "text/plain": [
       "          color\n",
       "strain         \n",
       "C57BL/6J    4.0\n",
       "DBA/2J      1.0\n",
       "B6D2F1      4.0\n",
       "D2B6F1      4.0\n",
       "BXD1        1.0\n",
       "...         ...\n",
       "BXD98       1.0\n",
       "BXD99       1.0\n",
       "BXD100      4.0\n",
       "BXD101      3.0\n",
       "BXD102      2.0\n",
       "\n",
       "[94 rows x 1 columns]"
      ]
     },
     "execution_count": 5,
     "metadata": {},
     "output_type": "execute_result"
    }
   ],
   "source": [
    "# load color file\n",
    "colors = pd.read_csv('..\\example_data\\coat_color.csv', na_values='x', names=['strain', 'color']).set_index('strain').dropna()\n",
    "colors"
   ]
  },
  {
   "cell_type": "code",
   "execution_count": 6,
   "metadata": {},
   "outputs": [
    {
     "data": {
      "text/html": [
       "<div>\n",
       "<style scoped>\n",
       "    .dataframe tbody tr th:only-of-type {\n",
       "        vertical-align: middle;\n",
       "    }\n",
       "\n",
       "    .dataframe tbody tr th {\n",
       "        vertical-align: top;\n",
       "    }\n",
       "\n",
       "    .dataframe thead th {\n",
       "        text-align: right;\n",
       "    }\n",
       "</style>\n",
       "<table border=\"1\" class=\"dataframe\">\n",
       "  <thead>\n",
       "    <tr style=\"text-align: right;\">\n",
       "      <th></th>\n",
       "      <th>DBA/2J</th>\n",
       "      <th>C57BL/6J</th>\n",
       "      <th>BXD1</th>\n",
       "      <th>BXD2</th>\n",
       "      <th>BXD5</th>\n",
       "      <th>BXD6</th>\n",
       "      <th>BXD8</th>\n",
       "      <th>BXD9</th>\n",
       "      <th>BXD11</th>\n",
       "      <th>BXD12</th>\n",
       "      <th>...</th>\n",
       "      <th>BXD88</th>\n",
       "      <th>BXD89</th>\n",
       "      <th>BXD90</th>\n",
       "      <th>BXD91</th>\n",
       "      <th>BXD93</th>\n",
       "      <th>BXD94</th>\n",
       "      <th>BXD95</th>\n",
       "      <th>BXD98</th>\n",
       "      <th>BXD99</th>\n",
       "      <th>BXD100</th>\n",
       "    </tr>\n",
       "    <tr>\n",
       "      <th>Locus</th>\n",
       "      <th></th>\n",
       "      <th></th>\n",
       "      <th></th>\n",
       "      <th></th>\n",
       "      <th></th>\n",
       "      <th></th>\n",
       "      <th></th>\n",
       "      <th></th>\n",
       "      <th></th>\n",
       "      <th></th>\n",
       "      <th></th>\n",
       "      <th></th>\n",
       "      <th></th>\n",
       "      <th></th>\n",
       "      <th></th>\n",
       "      <th></th>\n",
       "      <th></th>\n",
       "      <th></th>\n",
       "      <th></th>\n",
       "      <th></th>\n",
       "      <th></th>\n",
       "    </tr>\n",
       "  </thead>\n",
       "  <tbody>\n",
       "    <tr>\n",
       "      <th>rs6269442</th>\n",
       "      <td>2</td>\n",
       "      <td>0</td>\n",
       "      <td>0</td>\n",
       "      <td>0</td>\n",
       "      <td>2</td>\n",
       "      <td>2</td>\n",
       "      <td>2</td>\n",
       "      <td>0</td>\n",
       "      <td>0</td>\n",
       "      <td>2</td>\n",
       "      <td>...</td>\n",
       "      <td>2</td>\n",
       "      <td>0</td>\n",
       "      <td>0</td>\n",
       "      <td>2</td>\n",
       "      <td>0</td>\n",
       "      <td>2</td>\n",
       "      <td>2</td>\n",
       "      <td>0</td>\n",
       "      <td>0</td>\n",
       "      <td>0</td>\n",
       "    </tr>\n",
       "    <tr>\n",
       "      <th>rs6365999</th>\n",
       "      <td>2</td>\n",
       "      <td>0</td>\n",
       "      <td>0</td>\n",
       "      <td>0</td>\n",
       "      <td>2</td>\n",
       "      <td>2</td>\n",
       "      <td>2</td>\n",
       "      <td>0</td>\n",
       "      <td>0</td>\n",
       "      <td>2</td>\n",
       "      <td>...</td>\n",
       "      <td>2</td>\n",
       "      <td>0</td>\n",
       "      <td>0</td>\n",
       "      <td>2</td>\n",
       "      <td>0</td>\n",
       "      <td>2</td>\n",
       "      <td>2</td>\n",
       "      <td>0</td>\n",
       "      <td>0</td>\n",
       "      <td>0</td>\n",
       "    </tr>\n",
       "    <tr>\n",
       "      <th>rs6376963</th>\n",
       "      <td>2</td>\n",
       "      <td>0</td>\n",
       "      <td>0</td>\n",
       "      <td>0</td>\n",
       "      <td>2</td>\n",
       "      <td>2</td>\n",
       "      <td>2</td>\n",
       "      <td>0</td>\n",
       "      <td>0</td>\n",
       "      <td>2</td>\n",
       "      <td>...</td>\n",
       "      <td>2</td>\n",
       "      <td>0</td>\n",
       "      <td>0</td>\n",
       "      <td>2</td>\n",
       "      <td>0</td>\n",
       "      <td>2</td>\n",
       "      <td>2</td>\n",
       "      <td>0</td>\n",
       "      <td>0</td>\n",
       "      <td>0</td>\n",
       "    </tr>\n",
       "    <tr>\n",
       "      <th>rs3677817</th>\n",
       "      <td>2</td>\n",
       "      <td>0</td>\n",
       "      <td>0</td>\n",
       "      <td>0</td>\n",
       "      <td>2</td>\n",
       "      <td>2</td>\n",
       "      <td>2</td>\n",
       "      <td>0</td>\n",
       "      <td>0</td>\n",
       "      <td>2</td>\n",
       "      <td>...</td>\n",
       "      <td>2</td>\n",
       "      <td>0</td>\n",
       "      <td>0</td>\n",
       "      <td>2</td>\n",
       "      <td>0</td>\n",
       "      <td>2</td>\n",
       "      <td>2</td>\n",
       "      <td>0</td>\n",
       "      <td>0</td>\n",
       "      <td>0</td>\n",
       "    </tr>\n",
       "    <tr>\n",
       "      <th>rs8236463</th>\n",
       "      <td>2</td>\n",
       "      <td>0</td>\n",
       "      <td>0</td>\n",
       "      <td>0</td>\n",
       "      <td>2</td>\n",
       "      <td>2</td>\n",
       "      <td>2</td>\n",
       "      <td>0</td>\n",
       "      <td>2</td>\n",
       "      <td>2</td>\n",
       "      <td>...</td>\n",
       "      <td>2</td>\n",
       "      <td>0</td>\n",
       "      <td>0</td>\n",
       "      <td>2</td>\n",
       "      <td>0</td>\n",
       "      <td>2</td>\n",
       "      <td>2</td>\n",
       "      <td>0</td>\n",
       "      <td>0</td>\n",
       "      <td>0</td>\n",
       "    </tr>\n",
       "    <tr>\n",
       "      <th>...</th>\n",
       "      <td>...</td>\n",
       "      <td>...</td>\n",
       "      <td>...</td>\n",
       "      <td>...</td>\n",
       "      <td>...</td>\n",
       "      <td>...</td>\n",
       "      <td>...</td>\n",
       "      <td>...</td>\n",
       "      <td>...</td>\n",
       "      <td>...</td>\n",
       "      <td>...</td>\n",
       "      <td>...</td>\n",
       "      <td>...</td>\n",
       "      <td>...</td>\n",
       "      <td>...</td>\n",
       "      <td>...</td>\n",
       "      <td>...</td>\n",
       "      <td>...</td>\n",
       "      <td>...</td>\n",
       "      <td>...</td>\n",
       "      <td>...</td>\n",
       "    </tr>\n",
       "    <tr>\n",
       "      <th>CEL-X_154259201</th>\n",
       "      <td>2</td>\n",
       "      <td>0</td>\n",
       "      <td>0</td>\n",
       "      <td>0</td>\n",
       "      <td>0</td>\n",
       "      <td>2</td>\n",
       "      <td>0</td>\n",
       "      <td>0</td>\n",
       "      <td>0</td>\n",
       "      <td>0</td>\n",
       "      <td>...</td>\n",
       "      <td>2</td>\n",
       "      <td>0</td>\n",
       "      <td>0</td>\n",
       "      <td>0</td>\n",
       "      <td>2</td>\n",
       "      <td>2</td>\n",
       "      <td>1</td>\n",
       "      <td>2</td>\n",
       "      <td>2</td>\n",
       "      <td>0</td>\n",
       "    </tr>\n",
       "    <tr>\n",
       "      <th>rs3657281</th>\n",
       "      <td>2</td>\n",
       "      <td>0</td>\n",
       "      <td>0</td>\n",
       "      <td>0</td>\n",
       "      <td>0</td>\n",
       "      <td>2</td>\n",
       "      <td>0</td>\n",
       "      <td>0</td>\n",
       "      <td>0</td>\n",
       "      <td>0</td>\n",
       "      <td>...</td>\n",
       "      <td>2</td>\n",
       "      <td>0</td>\n",
       "      <td>0</td>\n",
       "      <td>0</td>\n",
       "      <td>2</td>\n",
       "      <td>2</td>\n",
       "      <td>1</td>\n",
       "      <td>2</td>\n",
       "      <td>2</td>\n",
       "      <td>0</td>\n",
       "    </tr>\n",
       "    <tr>\n",
       "      <th>rs13484106</th>\n",
       "      <td>2</td>\n",
       "      <td>0</td>\n",
       "      <td>0</td>\n",
       "      <td>0</td>\n",
       "      <td>0</td>\n",
       "      <td>2</td>\n",
       "      <td>0</td>\n",
       "      <td>0</td>\n",
       "      <td>0</td>\n",
       "      <td>0</td>\n",
       "      <td>...</td>\n",
       "      <td>2</td>\n",
       "      <td>0</td>\n",
       "      <td>0</td>\n",
       "      <td>0</td>\n",
       "      <td>2</td>\n",
       "      <td>2</td>\n",
       "      <td>1</td>\n",
       "      <td>2</td>\n",
       "      <td>2</td>\n",
       "      <td>0</td>\n",
       "    </tr>\n",
       "    <tr>\n",
       "      <th>gnfX.146.867</th>\n",
       "      <td>2</td>\n",
       "      <td>0</td>\n",
       "      <td>0</td>\n",
       "      <td>0</td>\n",
       "      <td>0</td>\n",
       "      <td>2</td>\n",
       "      <td>0</td>\n",
       "      <td>0</td>\n",
       "      <td>0</td>\n",
       "      <td>0</td>\n",
       "      <td>...</td>\n",
       "      <td>2</td>\n",
       "      <td>0</td>\n",
       "      <td>0</td>\n",
       "      <td>0</td>\n",
       "      <td>2</td>\n",
       "      <td>2</td>\n",
       "      <td>1</td>\n",
       "      <td>2</td>\n",
       "      <td>2</td>\n",
       "      <td>0</td>\n",
       "    </tr>\n",
       "    <tr>\n",
       "      <th>DXMit223</th>\n",
       "      <td>2</td>\n",
       "      <td>0</td>\n",
       "      <td>0</td>\n",
       "      <td>0</td>\n",
       "      <td>0</td>\n",
       "      <td>2</td>\n",
       "      <td>0</td>\n",
       "      <td>0</td>\n",
       "      <td>0</td>\n",
       "      <td>0</td>\n",
       "      <td>...</td>\n",
       "      <td>2</td>\n",
       "      <td>0</td>\n",
       "      <td>0</td>\n",
       "      <td>0</td>\n",
       "      <td>2</td>\n",
       "      <td>2</td>\n",
       "      <td>1</td>\n",
       "      <td>2</td>\n",
       "      <td>2</td>\n",
       "      <td>0</td>\n",
       "    </tr>\n",
       "  </tbody>\n",
       "</table>\n",
       "<p>3811 rows × 92 columns</p>\n",
       "</div>"
      ],
      "text/plain": [
       "                 DBA/2J  C57BL/6J  BXD1  BXD2  BXD5  BXD6  BXD8  BXD9  BXD11  \\\n",
       "Locus                                                                          \n",
       "rs6269442             2         0     0     0     2     2     2     0      0   \n",
       "rs6365999             2         0     0     0     2     2     2     0      0   \n",
       "rs6376963             2         0     0     0     2     2     2     0      0   \n",
       "rs3677817             2         0     0     0     2     2     2     0      0   \n",
       "rs8236463             2         0     0     0     2     2     2     0      2   \n",
       "...                 ...       ...   ...   ...   ...   ...   ...   ...    ...   \n",
       "CEL-X_154259201       2         0     0     0     0     2     0     0      0   \n",
       "rs3657281             2         0     0     0     0     2     0     0      0   \n",
       "rs13484106            2         0     0     0     0     2     0     0      0   \n",
       "gnfX.146.867          2         0     0     0     0     2     0     0      0   \n",
       "DXMit223              2         0     0     0     0     2     0     0      0   \n",
       "\n",
       "                 BXD12  ...  BXD88  BXD89  BXD90  BXD91  BXD93  BXD94  BXD95  \\\n",
       "Locus                   ...                                                    \n",
       "rs6269442            2  ...      2      0      0      2      0      2      2   \n",
       "rs6365999            2  ...      2      0      0      2      0      2      2   \n",
       "rs6376963            2  ...      2      0      0      2      0      2      2   \n",
       "rs3677817            2  ...      2      0      0      2      0      2      2   \n",
       "rs8236463            2  ...      2      0      0      2      0      2      2   \n",
       "...                ...  ...    ...    ...    ...    ...    ...    ...    ...   \n",
       "CEL-X_154259201      0  ...      2      0      0      0      2      2      1   \n",
       "rs3657281            0  ...      2      0      0      0      2      2      1   \n",
       "rs13484106           0  ...      2      0      0      0      2      2      1   \n",
       "gnfX.146.867         0  ...      2      0      0      0      2      2      1   \n",
       "DXMit223             0  ...      2      0      0      0      2      2      1   \n",
       "\n",
       "                 BXD98  BXD99  BXD100  \n",
       "Locus                                  \n",
       "rs6269442            0      0       0  \n",
       "rs6365999            0      0       0  \n",
       "rs6376963            0      0       0  \n",
       "rs3677817            0      0       0  \n",
       "rs8236463            0      0       0  \n",
       "...                ...    ...     ...  \n",
       "CEL-X_154259201      2      2       0  \n",
       "rs3657281            2      2       0  \n",
       "rs13484106           2      2       0  \n",
       "gnfX.146.867         2      2       0  \n",
       "DXMit223             2      2       0  \n",
       "\n",
       "[3811 rows x 92 columns]"
      ]
     },
     "execution_count": 6,
     "metadata": {},
     "output_type": "execute_result"
    }
   ],
   "source": [
    "# add two column with 'C57BL/63' and 'DBA/23'\n",
    "geno.insert(0, 'C57BL/6J', value=0)\n",
    "geno.insert(0, 'DBA/2J', value=2)\n",
    "geno"
   ]
  },
  {
   "cell_type": "markdown",
   "metadata": {},
   "source": [
    "# Association tests between variants and categorical phenotype\n",
    "We will first start testing SNPs for their association with a *categorical* phenotype, coat color. It is known to be heritable, and therefore genetically determined to a large extent, so we'll try to find candidate genes that could be involved. The fist step is finding the right SNPs."
   ]
  },
  {
   "cell_type": "markdown",
   "metadata": {},
   "source": [
    "## Task: Perfom association test for a single SNP using $\\chi^2$ test\n",
    "\n",
    "The chi2 test is a suitable test to detect association between two categorical random variables. It compares their observed combination counts with the combination counts that would be expected if there was no association between the two variables. The p-value calculated by the chi2 test is a measure of how likely it is for the expected and actual combination counts to differ as much as they do by mere chance."
   ]
  },
  {
   "cell_type": "code",
   "execution_count": 7,
   "metadata": {},
   "outputs": [],
   "source": [
    "# find the intersection part bewteen colors and genotype\n",
    "usable_strains = colors.index.intersection(geno.columns)\n",
    "colors = colors.loc[usable_strains]\n",
    "geno = geno.loc[:, usable_strains]"
   ]
  },
  {
   "cell_type": "markdown",
   "metadata": {},
   "source": [
    "### Extract the genotype information for a single SNP\n",
    "It can be any SNP, but make sure you don't hardcode it! Put the locus identifier string into the `snp` variable."
   ]
  },
  {
   "cell_type": "code",
   "execution_count": 8,
   "metadata": {},
   "outputs": [],
   "source": [
    "snp = 'rs6232550'"
   ]
  },
  {
   "cell_type": "code",
   "execution_count": 9,
   "metadata": {},
   "outputs": [],
   "source": [
    "one_geno = geno.loc[snp]"
   ]
  },
  {
   "cell_type": "markdown",
   "metadata": {},
   "source": [
    "### Combine SNP data with phenotype data\n",
    "\n",
    "Create a DataFrame with two columns: one for the color, one for the genotype. We aren't interested in unknown values, remember the \"inner join\"."
   ]
  },
  {
   "cell_type": "code",
   "execution_count": 10,
   "metadata": {},
   "outputs": [
    {
     "data": {
      "text/plain": [
       "C57BL/6J    0\n",
       "DBA/2J      2\n",
       "BXD1        2\n",
       "BXD2        0\n",
       "BXD5        0\n",
       "           ..\n",
       "BXD94       2\n",
       "BXD95       0\n",
       "BXD98       2\n",
       "BXD99       2\n",
       "BXD100      2\n",
       "Name: rs6232550, Length: 89, dtype: int64"
      ]
     },
     "execution_count": 10,
     "metadata": {},
     "output_type": "execute_result"
    }
   ],
   "source": [
    "### not working here\n",
    "one_geno"
   ]
  },
  {
   "cell_type": "markdown",
   "metadata": {},
   "source": [
    "### Plot relationship between genotye and phenotype"
   ]
  },
  {
   "cell_type": "markdown",
   "metadata": {},
   "source": [
    "You can use a scatter plot, but equal values will occlude each other, so you should add some jitter (small random noise). You can achieve this by generating random values in the same shape as your ~DataFrame~ two series, and adding it.\n",
    "\n",
    "You can also try a heatmap, but make sure your color range starts from zero."
   ]
  },
  {
   "cell_type": "code",
   "execution_count": 11,
   "metadata": {
    "scrolled": false
   },
   "outputs": [
    {
     "data": {
      "image/png": "[encoded data removed]",
      "text/plain": [
       "<Figure size 432x288 with 1 Axes>"
      ]
     },
     "metadata": {
      "needs_background": "light"
     },
     "output_type": "display_data"
    }
   ],
   "source": [
    "# add noise with x and y label\n",
    "noise1 = 0.5*np.random.random(one_geno.shape) - 0.25\n",
    "noise2 = 0.5*np.random.random(one_geno.shape) - 0.25\n",
    "\n",
    "# plot scatter plot showing cluster\n",
    "plt.scatter(colors['color']+noise1, one_geno+noise2)\n",
    "plt.xlabel('color')\n",
    "plt.ylabel('geno')\n",
    "plt.show()"
   ]
  },
  {
   "cell_type": "markdown",
   "metadata": {},
   "source": [
    "### Create a contingency table for a D-dominant inheritance model of black coat color for your SNP\n",
    "\n",
    "What does D-dominant mean here, how should you treat the heterozygous genotype? Think about the individual cells of the contingency matrix: it has a 2x2 shape, but you have 3 kinds of genotypes and 4 kinds of colors. How should you collapse your data to binary labels?\n",
    "\n",
    "Tip: Pandas' `crosstab` functionality may be helpful for you."
   ]
  },
  {
   "cell_type": "code",
   "execution_count": 12,
   "metadata": {},
   "outputs": [
    {
     "data": {
      "text/html": [
       "<div>\n",
       "<style scoped>\n",
       "    .dataframe tbody tr th:only-of-type {\n",
       "        vertical-align: middle;\n",
       "    }\n",
       "\n",
       "    .dataframe tbody tr th {\n",
       "        vertical-align: top;\n",
       "    }\n",
       "\n",
       "    .dataframe thead th {\n",
       "        text-align: right;\n",
       "    }\n",
       "</style>\n",
       "<table border=\"1\" class=\"dataframe\">\n",
       "  <thead>\n",
       "    <tr style=\"text-align: right;\">\n",
       "      <th>rs6232550</th>\n",
       "      <th>False</th>\n",
       "      <th>True</th>\n",
       "    </tr>\n",
       "    <tr>\n",
       "      <th>color</th>\n",
       "      <th></th>\n",
       "      <th></th>\n",
       "    </tr>\n",
       "  </thead>\n",
       "  <tbody>\n",
       "    <tr>\n",
       "      <th>False</th>\n",
       "      <td>32</td>\n",
       "      <td>37</td>\n",
       "    </tr>\n",
       "    <tr>\n",
       "      <th>True</th>\n",
       "      <td>12</td>\n",
       "      <td>8</td>\n",
       "    </tr>\n",
       "  </tbody>\n",
       "</table>\n",
       "</div>"
      ],
      "text/plain": [
       "rs6232550  False  True \n",
       "color                  \n",
       "False         32     37\n",
       "True          12      8"
      ]
     },
     "execution_count": 12,
     "metadata": {},
     "output_type": "execute_result"
    }
   ],
   "source": [
    "# find D dominant and calculate cross table\n",
    "colors2 = colors['color']\n",
    "pd.crosstab((colors['color'] == 4), (one_geno >= 1))"
   ]
  },
  {
   "cell_type": "markdown",
   "metadata": {},
   "source": [
    "### Perform a $\\chi^2$ square test for independence on the contingency table\n",
    "\n",
    "Find a suitable method in `scipy.stats` and read its documentation to understand what the returned values are. How can you access the test's p-value?"
   ]
  },
  {
   "cell_type": "code",
   "execution_count": 13,
   "metadata": {},
   "outputs": [
    {
     "data": {
      "text/plain": [
       "0.4127962429654475"
      ]
     },
     "execution_count": 13,
     "metadata": {},
     "output_type": "execute_result"
    }
   ],
   "source": [
    "# Using chi2 to calculate x square\n",
    "import scipy.stats as stats\n",
    "pval = stats.chi2_contingency(pd.crosstab((colors['color'] == 4), (one_geno >= 1)))[1]\n",
    "pval"
   ]
  },
  {
   "cell_type": "markdown",
   "metadata": {},
   "source": [
    "## Refactor the previous analysis steps into a function and apply to all SNPs\n",
    "\n",
    "Try to do it without writing any `for` loops. Use the built-in iterating functionality that pandas provides with the `apply` method.\n",
    "\n",
    "If you are ahead of schedule, you could try to come up with a faster approach. Doing 3811 cross-tabulations from scratch might be a bit wasteful, since the coat color labels are constant in every iteration. It is possible to calculate all 3811 contingency table values with a few simple operations, and therefore run all chi2 tests in a matter of seconds instead of a minute.\n",
    "\n",
    "But speed doesn't really matter for us now. Whichever way you do it, answer the following question:\n",
    "\n",
    "How many SNPs are associated with coat color at a p<0.05 significance threshold?"
   ]
  },
  {
   "cell_type": "code",
   "execution_count": 14,
   "metadata": {},
   "outputs": [],
   "source": [
    "def chi2_geno_coat(locus):\n",
    "    p_value = stats.chi2_contingency(pd.crosstab((colors2 == 4), (locus >= 1)))[1]\n",
    "    return p_value"
   ]
  },
  {
   "cell_type": "code",
   "execution_count": 15,
   "metadata": {},
   "outputs": [],
   "source": [
    "pvals = geno.apply(chi2_geno_coat, axis=1)"
   ]
  },
  {
   "cell_type": "code",
   "execution_count": 16,
   "metadata": {},
   "outputs": [
    {
     "data": {
      "text/plain": [
       "253"
      ]
     },
     "execution_count": 16,
     "metadata": {},
     "output_type": "execute_result"
    }
   ],
   "source": [
    "(pvals < 0.05).sum()"
   ]
  },
  {
   "cell_type": "markdown",
   "metadata": {},
   "source": [
    "### Add the p-values to the SNP metadata (`geno_meta`) DataFrame\n",
    "\n",
    "Insert them as a new column called `p_raw`."
   ]
  },
  {
   "cell_type": "code",
   "execution_count": 17,
   "metadata": {},
   "outputs": [],
   "source": [
    "geno_meta = genotype.iloc[:, :3]\n",
    "geno_meta.insert(0, column='p value', value=pvals)"
   ]
  },
  {
   "cell_type": "code",
   "execution_count": 18,
   "metadata": {},
   "outputs": [
    {
     "data": {
      "text/html": [
       "<div>\n",
       "<style scoped>\n",
       "    .dataframe tbody tr th:only-of-type {\n",
       "        vertical-align: middle;\n",
       "    }\n",
       "\n",
       "    .dataframe tbody tr th {\n",
       "        vertical-align: top;\n",
       "    }\n",
       "\n",
       "    .dataframe thead th {\n",
       "        text-align: right;\n",
       "    }\n",
       "</style>\n",
       "<table border=\"1\" class=\"dataframe\">\n",
       "  <thead>\n",
       "    <tr style=\"text-align: right;\">\n",
       "      <th></th>\n",
       "      <th>p value</th>\n",
       "      <th>Chr</th>\n",
       "      <th>cM</th>\n",
       "      <th>Mb</th>\n",
       "    </tr>\n",
       "    <tr>\n",
       "      <th>Locus</th>\n",
       "      <th></th>\n",
       "      <th></th>\n",
       "      <th></th>\n",
       "      <th></th>\n",
       "    </tr>\n",
       "  </thead>\n",
       "  <tbody>\n",
       "    <tr>\n",
       "      <th>rs6269442</th>\n",
       "      <td>0.012001</td>\n",
       "      <td>1</td>\n",
       "      <td>0.000</td>\n",
       "      <td>3.482275</td>\n",
       "    </tr>\n",
       "    <tr>\n",
       "      <th>rs6365999</th>\n",
       "      <td>0.012001</td>\n",
       "      <td>1</td>\n",
       "      <td>0.000</td>\n",
       "      <td>4.811062</td>\n",
       "    </tr>\n",
       "    <tr>\n",
       "      <th>rs6376963</th>\n",
       "      <td>0.058495</td>\n",
       "      <td>1</td>\n",
       "      <td>0.895</td>\n",
       "      <td>5.008089</td>\n",
       "    </tr>\n",
       "    <tr>\n",
       "      <th>rs3677817</th>\n",
       "      <td>0.074896</td>\n",
       "      <td>1</td>\n",
       "      <td>1.185</td>\n",
       "      <td>5.176058</td>\n",
       "    </tr>\n",
       "    <tr>\n",
       "      <th>rs8236463</th>\n",
       "      <td>0.246533</td>\n",
       "      <td>1</td>\n",
       "      <td>2.081</td>\n",
       "      <td>5.579193</td>\n",
       "    </tr>\n",
       "    <tr>\n",
       "      <th>...</th>\n",
       "      <td>...</td>\n",
       "      <td>...</td>\n",
       "      <td>...</td>\n",
       "      <td>...</td>\n",
       "    </tr>\n",
       "    <tr>\n",
       "      <th>CEL-X_154259201</th>\n",
       "      <td>0.180213</td>\n",
       "      <td>X</td>\n",
       "      <td>71.490</td>\n",
       "      <td>160.727278</td>\n",
       "    </tr>\n",
       "    <tr>\n",
       "      <th>rs3657281</th>\n",
       "      <td>0.349773</td>\n",
       "      <td>X</td>\n",
       "      <td>71.776</td>\n",
       "      <td>160.951099</td>\n",
       "    </tr>\n",
       "    <tr>\n",
       "      <th>rs13484106</th>\n",
       "      <td>0.349773</td>\n",
       "      <td>X</td>\n",
       "      <td>71.776</td>\n",
       "      <td>162.637897</td>\n",
       "    </tr>\n",
       "    <tr>\n",
       "      <th>gnfX.146.867</th>\n",
       "      <td>0.049346</td>\n",
       "      <td>X</td>\n",
       "      <td>73.687</td>\n",
       "      <td>163.124562</td>\n",
       "    </tr>\n",
       "    <tr>\n",
       "      <th>DXMit223</th>\n",
       "      <td>0.029074</td>\n",
       "      <td>X</td>\n",
       "      <td>74.279</td>\n",
       "      <td>163.741514</td>\n",
       "    </tr>\n",
       "  </tbody>\n",
       "</table>\n",
       "<p>3811 rows × 4 columns</p>\n",
       "</div>"
      ],
      "text/plain": [
       "                  p value Chr      cM          Mb\n",
       "Locus                                            \n",
       "rs6269442        0.012001   1   0.000    3.482275\n",
       "rs6365999        0.012001   1   0.000    4.811062\n",
       "rs6376963        0.058495   1   0.895    5.008089\n",
       "rs3677817        0.074896   1   1.185    5.176058\n",
       "rs8236463        0.246533   1   2.081    5.579193\n",
       "...                   ...  ..     ...         ...\n",
       "CEL-X_154259201  0.180213   X  71.490  160.727278\n",
       "rs3657281        0.349773   X  71.776  160.951099\n",
       "rs13484106       0.349773   X  71.776  162.637897\n",
       "gnfX.146.867     0.049346   X  73.687  163.124562\n",
       "DXMit223         0.029074   X  74.279  163.741514\n",
       "\n",
       "[3811 rows x 4 columns]"
      ]
     },
     "execution_count": 18,
     "metadata": {},
     "output_type": "execute_result"
    }
   ],
   "source": [
    "geno_meta"
   ]
  },
  {
   "cell_type": "markdown",
   "metadata": {},
   "source": [
    "### Create a Manhattan Plot of  $-\\log_{10}(\\text{P-value})$ vs chromosome position \n",
    "A Manhattan plot, named after its resemblance to the skyline of Manhattan, is commonly used to plot the p-values of SNP association tests against their genomic position.\n",
    "\n",
    "Technically, it's a scatter plot of genome position vs the negative base-10 logarithm of the p-value (~how many zeroes does the p-value begin with). Try to recreate something like the plot below. It doesn't have to be an exact match, but at least the chromosomes should be distinguishable.\n",
    "\n",
    "Think about how to convert chromosome number + Mb position within the chromosome into a single absolute position on the x-axis."
   ]
  },
  {
   "cell_type": "markdown",
   "metadata": {},
   "source": [
    "<img src='Manhattan.png'>"
   ]
  },
  {
   "cell_type": "code",
   "execution_count": 20,
   "metadata": {},
   "outputs": [
    {
     "data": {
      "image/png": "[encoded data removed]",
      "text/plain": [
       "<Figure size 1080x432 with 1 Axes>"
      ]
     },
     "metadata": {
      "needs_background": "light"
     },
     "output_type": "display_data"
    }
   ],
   "source": [
    "## Better way to do\n",
    "plt.figure(figsize=(15,6))\n",
    "x_position = []\n",
    "x_label = []\n",
    "position = 0\n",
    "for label, data in geno_meta.groupby(\"Chr\", sort=False):\n",
    "    x_position.append(position)\n",
    "    x_label.append(label)\n",
    "    plt.scatter(data['Mb']+position, -np.log10(data['p value']),s=3, zorder=2)\n",
    "    position+=data['Mb'].max()\n",
    "    \n",
    "for x1, x2 in zip(x_position[::2], x_position[1::2]):\n",
    "    plt.axvspan(x1, x2, color='black', alpha=0.1, zorder=1)\n",
    "plt.axhline(-np.log10(0.05))\n",
    "plt.xticks(x_position, x_label, fontsize=8)\n",
    "plt.show()"
   ]
  },
  {
   "cell_type": "markdown",
   "metadata": {},
   "source": [
    "## Task: Correction for Multiple Hypothesis Testing"
   ]
  },
  {
   "cell_type": "markdown",
   "metadata": {},
   "source": [
    "### Preliminary task: p-value histograms\n",
    "\n",
    "Plot a histogram of all the p-values that you got from the $\\chi^2$ tests. Generate the same amount of random uniformly distributed values between [0,1], and put them on the same histogram for a baseline comparison. (Remember, a chi2 test, or any well-calibrated statistical test would always produce a uniform distribution if there was no association between two random variables.)\n",
    "\n",
    "Will any of our p-values survive multiple testing correction in your opinion? If so, guess how many! If necessary, increase the number of bins to capture the differences between the two histograms near p=0."
   ]
  },
  {
   "cell_type": "code",
   "execution_count": 21,
   "metadata": {},
   "outputs": [
    {
     "data": {
      "text/plain": [
       "<matplotlib.legend.Legend at 0x1a67bc6bf88>"
      ]
     },
     "execution_count": 21,
     "metadata": {},
     "output_type": "execute_result"
    },
    {
     "data": {
      "image/png": "[encoded data removed]",
      "text/plain": [
       "<Figure size 432x288 with 1 Axes>"
      ]
     },
     "metadata": {
      "needs_background": "light"
     },
     "output_type": "display_data"
    }
   ],
   "source": [
    "# plot histogram\n",
    "bins = np.linspace(0,1,50)\n",
    "unit = np.random.uniform(0,1, len(pvals))\n",
    "plt.hist((pvals, unit), bins=bins, histtype='stepfilled', alpha=0.5)\n",
    "plt.legend(['p values', 'random'])"
   ]
  },
  {
   "cell_type": "markdown",
   "metadata": {},
   "source": [
    "### Use the Benjamini-Hochberg correction method to take care of the multiple hypothesis testing problem\n",
    "\n",
    "Insert the B-H corrected p-values into the locus information DataFrame `geno_meta` as a new column named `p_bh`.\n",
    "\n",
    "After the Benjamini-Hochberg correction, how many SNPs stayed significantly associated with coat color at the p<0.05 level? Compare this number with your earlier guess based on the raw p-value histogram. (And perhaps ponder: have we *really* tested 3811 different association hypotheses?)"
   ]
  },
  {
   "cell_type": "code",
   "execution_count": 22,
   "metadata": {},
   "outputs": [],
   "source": [
    "from statsmodels.sandbox.stats.multicomp import multipletests"
   ]
  },
  {
   "cell_type": "code",
   "execution_count": 23,
   "metadata": {},
   "outputs": [],
   "source": [
    "# using BH for correct p values\n",
    "BH_pval = multipletests(geno_meta['p value'], method='fdr_bh' )[1]\n",
    "geno_meta['p_bh'] = BH_pval"
   ]
  },
  {
   "cell_type": "code",
   "execution_count": 24,
   "metadata": {},
   "outputs": [
    {
     "data": {
      "text/html": [
       "<div>\n",
       "<style scoped>\n",
       "    .dataframe tbody tr th:only-of-type {\n",
       "        vertical-align: middle;\n",
       "    }\n",
       "\n",
       "    .dataframe tbody tr th {\n",
       "        vertical-align: top;\n",
       "    }\n",
       "\n",
       "    .dataframe thead th {\n",
       "        text-align: right;\n",
       "    }\n",
       "</style>\n",
       "<table border=\"1\" class=\"dataframe\">\n",
       "  <thead>\n",
       "    <tr style=\"text-align: right;\">\n",
       "      <th></th>\n",
       "      <th>p value</th>\n",
       "      <th>Chr</th>\n",
       "      <th>cM</th>\n",
       "      <th>Mb</th>\n",
       "      <th>p_bh</th>\n",
       "    </tr>\n",
       "    <tr>\n",
       "      <th>Locus</th>\n",
       "      <th></th>\n",
       "      <th></th>\n",
       "      <th></th>\n",
       "      <th></th>\n",
       "      <th></th>\n",
       "    </tr>\n",
       "  </thead>\n",
       "  <tbody>\n",
       "    <tr>\n",
       "      <th>rs6269442</th>\n",
       "      <td>0.012001</td>\n",
       "      <td>1</td>\n",
       "      <td>0.000</td>\n",
       "      <td>3.482275</td>\n",
       "      <td>0.298921</td>\n",
       "    </tr>\n",
       "    <tr>\n",
       "      <th>rs6365999</th>\n",
       "      <td>0.012001</td>\n",
       "      <td>1</td>\n",
       "      <td>0.000</td>\n",
       "      <td>4.811062</td>\n",
       "      <td>0.298921</td>\n",
       "    </tr>\n",
       "    <tr>\n",
       "      <th>rs6376963</th>\n",
       "      <td>0.058495</td>\n",
       "      <td>1</td>\n",
       "      <td>0.895</td>\n",
       "      <td>5.008089</td>\n",
       "      <td>0.727488</td>\n",
       "    </tr>\n",
       "    <tr>\n",
       "      <th>rs3677817</th>\n",
       "      <td>0.074896</td>\n",
       "      <td>1</td>\n",
       "      <td>1.185</td>\n",
       "      <td>5.176058</td>\n",
       "      <td>0.786301</td>\n",
       "    </tr>\n",
       "    <tr>\n",
       "      <th>rs8236463</th>\n",
       "      <td>0.246533</td>\n",
       "      <td>1</td>\n",
       "      <td>2.081</td>\n",
       "      <td>5.579193</td>\n",
       "      <td>0.988040</td>\n",
       "    </tr>\n",
       "    <tr>\n",
       "      <th>...</th>\n",
       "      <td>...</td>\n",
       "      <td>...</td>\n",
       "      <td>...</td>\n",
       "      <td>...</td>\n",
       "      <td>...</td>\n",
       "    </tr>\n",
       "    <tr>\n",
       "      <th>CEL-X_154259201</th>\n",
       "      <td>0.180213</td>\n",
       "      <td>X</td>\n",
       "      <td>71.490</td>\n",
       "      <td>160.727278</td>\n",
       "      <td>0.988040</td>\n",
       "    </tr>\n",
       "    <tr>\n",
       "      <th>rs3657281</th>\n",
       "      <td>0.349773</td>\n",
       "      <td>X</td>\n",
       "      <td>71.776</td>\n",
       "      <td>160.951099</td>\n",
       "      <td>0.988040</td>\n",
       "    </tr>\n",
       "    <tr>\n",
       "      <th>rs13484106</th>\n",
       "      <td>0.349773</td>\n",
       "      <td>X</td>\n",
       "      <td>71.776</td>\n",
       "      <td>162.637897</td>\n",
       "      <td>0.988040</td>\n",
       "    </tr>\n",
       "    <tr>\n",
       "      <th>gnfX.146.867</th>\n",
       "      <td>0.049346</td>\n",
       "      <td>X</td>\n",
       "      <td>73.687</td>\n",
       "      <td>163.124562</td>\n",
       "      <td>0.727488</td>\n",
       "    </tr>\n",
       "    <tr>\n",
       "      <th>DXMit223</th>\n",
       "      <td>0.029074</td>\n",
       "      <td>X</td>\n",
       "      <td>74.279</td>\n",
       "      <td>163.741514</td>\n",
       "      <td>0.559606</td>\n",
       "    </tr>\n",
       "  </tbody>\n",
       "</table>\n",
       "<p>3811 rows × 5 columns</p>\n",
       "</div>"
      ],
      "text/plain": [
       "                  p value Chr      cM          Mb      p_bh\n",
       "Locus                                                      \n",
       "rs6269442        0.012001   1   0.000    3.482275  0.298921\n",
       "rs6365999        0.012001   1   0.000    4.811062  0.298921\n",
       "rs6376963        0.058495   1   0.895    5.008089  0.727488\n",
       "rs3677817        0.074896   1   1.185    5.176058  0.786301\n",
       "rs8236463        0.246533   1   2.081    5.579193  0.988040\n",
       "...                   ...  ..     ...         ...       ...\n",
       "CEL-X_154259201  0.180213   X  71.490  160.727278  0.988040\n",
       "rs3657281        0.349773   X  71.776  160.951099  0.988040\n",
       "rs13484106       0.349773   X  71.776  162.637897  0.988040\n",
       "gnfX.146.867     0.049346   X  73.687  163.124562  0.727488\n",
       "DXMit223         0.029074   X  74.279  163.741514  0.559606\n",
       "\n",
       "[3811 rows x 5 columns]"
      ]
     },
     "execution_count": 24,
     "metadata": {},
     "output_type": "execute_result"
    }
   ],
   "source": [
    "geno_meta"
   ]
  },
  {
   "cell_type": "markdown",
   "metadata": {},
   "source": [
    "### Plot a histogram of the corrected p-values\n",
    "\n",
    "Compare it with the original histogram of raw p-values. Does it match your expectations?\n",
    "\n",
    "If you want, you can also try to recreate the Manhattan plot with the corrected p-values this time."
   ]
  },
  {
   "cell_type": "code",
   "execution_count": 25,
   "metadata": {},
   "outputs": [
    {
     "data": {
      "text/plain": [
       "89"
      ]
     },
     "execution_count": 25,
     "metadata": {},
     "output_type": "execute_result"
    },
    {
     "data": {
      "image/png": "[encoded data removed]",
      "text/plain": [
       "<Figure size 432x288 with 1 Axes>"
      ]
     },
     "metadata": {
      "needs_background": "light"
     },
     "output_type": "display_data"
    }
   ],
   "source": [
    "geno_meta['p_bh'].hist()\n",
    "(geno_meta['p_bh'] < 0.05).sum()"
   ]
  },
  {
   "cell_type": "code",
   "execution_count": 26,
   "metadata": {},
   "outputs": [
    {
     "data": {
      "text/plain": [
       "[<matplotlib.lines.Line2D at 0x1a67bc07048>]"
      ]
     },
     "execution_count": 26,
     "metadata": {},
     "output_type": "execute_result"
    },
    {
     "data": {
      "image/png": "[encoded data removed]",
      "text/plain": [
       "<Figure size 432x288 with 1 Axes>"
      ]
     },
     "metadata": {
      "needs_background": "light"
     },
     "output_type": "display_data"
    }
   ],
   "source": [
    "geno_meta['log_p_bh'] = -np.log10(BH_pval)\n",
    "x = geno_meta.loc[geno_meta['Chr'] == '9']['Mb']\n",
    "y = geno_meta.loc[geno_meta['Chr'] == '9']['log_p_bh']\n",
    "plt.plot(x, y)"
   ]
  },
  {
   "cell_type": "code",
   "execution_count": 27,
   "metadata": {},
   "outputs": [
    {
     "data": {
      "image/png": "[encoded data removed]",
      "text/plain": [
       "<Figure size 1152x432 with 1 Axes>"
      ]
     },
     "metadata": {
      "needs_background": "light"
     },
     "output_type": "display_data"
    }
   ],
   "source": [
    "plt.figure(figsize=(16,6))\n",
    "x_position = []\n",
    "x_label = []\n",
    "position = 0\n",
    "\n",
    "for label, data in geno_meta.reset_index('Locus').groupby(\"Chr\", sort=False):\n",
    "    x_position.append(position)\n",
    "    x_label.append('Chr'+label)\n",
    "    plt.scatter(data.index, -np.log10(data['p_bh']),s=3, zorder=2)\n",
    "    position=data.index.max()\n",
    "    \n",
    "for x1, x2 in zip(x_position[::2], x_position[1::2]):\n",
    "    plt.axvspan(x1, x2, color='black', alpha=0.1, zorder=1)\n",
    "plt.axhline(-np.log10(0.05))\n",
    "plt.xticks(x_position, x_label, fontsize=8)\n",
    "plt.show()"
   ]
  },
  {
   "cell_type": "markdown",
   "metadata": {},
   "source": [
    "### Check if the genes you found match the literature about genetics of mouse coat color \n",
    "\n",
    "Hint / spoiler: ([PMC2736153](http://www.ncbi.nlm.nih.gov/pmc/articles/PMC2736153))."
   ]
  },
  {
   "cell_type": "markdown",
   "metadata": {},
   "source": [
    "Extra task not in notebook: jitterplot of the best chr4 and chr9 SNPs"
   ]
  },
  {
   "cell_type": "code",
   "execution_count": 28,
   "metadata": {},
   "outputs": [
    {
     "data": {
      "image/png": "[encoded data removed]",
      "text/plain": [
       "<Figure size 432x288 with 1 Axes>"
      ]
     },
     "metadata": {
      "needs_background": "light"
     },
     "output_type": "display_data"
    },
    {
     "data": {
      "image/png": "[encoded data removed]",
      "text/plain": [
       "<Figure size 432x288 with 1 Axes>"
      ]
     },
     "metadata": {
      "needs_background": "light"
     },
     "output_type": "display_data"
    }
   ],
   "source": [
    "noise1 = 0.3*np.random.random(one_geno.shape) - 0.15\n",
    "noise2 = 0.3*np.random.random(one_geno.shape) - 0.15\n",
    "chrs = ['4','9']\n",
    "locuss = []\n",
    "for c in chrs:\n",
    "    max_locus = geno_meta.loc[(geno_meta['Chr'] == c)]['log_p_bh'].idxmax()\n",
    "    best_gene = geno.loc[max_locus]\n",
    "    \n",
    "    plt.scatter(colors2+noise1, best_gene+noise2)\n",
    "    plt.title('Chr%s' %(c))\n",
    "    plt.xlabel('color')\n",
    "    plt.ylabel('geno')\n",
    "    plt.show()"
   ]
  }
 ],
 "metadata": {
  "anaconda-cloud": {},
  "hide_input": false,
  "kernelspec": {
   "display_name": "firstEnv",
   "language": "python",
   "name": "firstenv"
  },
  "language_info": {
   "codemirror_mode": {
    "name": "ipython",
    "version": 3
   },
   "file_extension": ".py",
   "mimetype": "text/x-python",
   "name": "python",
   "nbconvert_exporter": "python",
   "pygments_lexer": "ipython3",
   "version": "3.7.9"
  },
  "nav_menu": {},
  "toc": {
   "navigate_menu": true,
   "number_sections": true,
   "sideBar": false,
   "threshold": 6,
   "toc_cell": false,
   "toc_number_sections": true,
   "toc_section_display": "none",
   "toc_window_display": true
  },
  "toc_position": {
   "height": "1208px",
   "left": "1265px",
   "right": "20px",
   "top": "88px",
   "width": "600px"
  }
 },
 "nbformat": 4,
 "nbformat_minor": 1
}
