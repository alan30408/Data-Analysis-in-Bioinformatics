{
 "cells": [
  {
   "cell_type": "markdown",
   "metadata": {},
   "source": [
    "## Supervised machine learning: Support Vector Machines\n",
    "\n",
    "Having explored some unsupervised machine learning methods earlier, we will move on to supervised techniques. Supervised learning is the task of finding a mapping from input data to output labels based on example input-output pairs. During the training (or fitting) phase, the model builds an internal function which maps input to output, ideally in a way that can be generalized to yet-unseen data successfully. Once a model is trained, it can be used to predict output labels from new input data alone.\n",
    "\n",
    "They come in two main groups: classifiers for categorical output labels, and regressors for continuous numeric output. We will only deal with classifiers in the little remaining time we have.\n",
    "\n",
    "Our first dataset, like yesterday, will be the mouse gene expression data on the input side, and the diet labels on the output (also called \"target\") side. The first supervised model that we will train and evaluate is a support vector classifier."
   ]
  },
  {
   "cell_type": "code",
   "execution_count": 1,
   "metadata": {},
   "outputs": [],
   "source": [
    "import pandas as pd\n",
    "import numpy as np\n",
    "import seaborn as sns\n",
    "import matplotlib.pyplot as plt\n",
    "\n",
    "from sklearn.svm import SVC\n",
    "from sklearn.decomposition import PCA\n",
    "from sklearn.model_selection import cross_val_predict, cross_val_score, KFold, StratifiedKFold, RepeatedKFold, RepeatedStratifiedKFold"
   ]
  },
  {
   "cell_type": "markdown",
   "metadata": {},
   "source": [
    "We load the expression and diet label data similarly to yesterday, including transposing the expression table so that samples (strain-diet combinations) correspond to rows, and their features (genes) correspond to columns. From now on we will use `0/1` encoding for CD/HFD for compatibility with a larger range of models. We will call the input DataFrame `data` and the Series with the desired outputs (diet labels) `target`."
   ]
  },
  {
   "cell_type": "code",
   "execution_count": 2,
   "metadata": {},
   "outputs": [],
   "source": [
    "def split_cd_hfd(input_df):\n",
    "    input_df.index.name = 'gene'  # change that weird @format=column Excel index label to something meaningful\n",
    "    input_cd = input_df.filter(regex=r'_CD|CD_') # loc[:, (input_df.columns.str.contains('CD_')) | (input_df.columns.str.contains('_CD'))]\n",
    "    input_hfd = input_df.filter(regex=r'_HFD|HFD_') #loc[:, (input_df.columns.str.contains('HFD_')) | (input_df.columns.str.contains('_HFD'))]\n",
    "\n",
    "    input_cd.columns = input_cd.columns.str.replace(r'_CD|CD_', '')\n",
    "    input_hfd.columns = input_hfd.columns.str.replace(r'_HFD|HFD_', '')\n",
    "    \n",
    "    input_cd.insert(0, 'diet', 'CD')\n",
    "    input_hfd.insert(0, 'diet', 'HFD')\n",
    "    \n",
    "    kept_columns = input_cd.columns.intersection(input_hfd.columns)\n",
    "    \n",
    "    df_both = pd.concat([input_cd, input_hfd], sort=False)[kept_columns]\n",
    "    df_both.columns.name = 'strain'  # added only later\n",
    "    \n",
    "    return df_both.reset_index().set_index(['gene', 'diet']).sort_index()"
   ]
  },
  {
   "cell_type": "code",
   "execution_count": 3,
   "metadata": {},
   "outputs": [],
   "source": [
    "xls = pd.read_excel('../example_data/aad0189_DataFileS5.xlsx', header=2)\n",
    "expr = xls.groupby('Gene.1').mean().filter(regex='Liver')  # or 'Gene' if you had used that for your DE calculations\n",
    "expr.columns = expr.columns.str.replace('_Liver', '')"
   ]
  },
  {
   "cell_type": "code",
   "execution_count": 4,
   "metadata": {},
   "outputs": [],
   "source": [
    "data = split_cd_hfd(expr).unstack().T  # input data as one row per sample\n",
    "target = data.index.to_frame()['diet'].replace({'CD': 0, 'HFD': 1}).rename('target')"
   ]
  },
  {
   "cell_type": "markdown",
   "metadata": {},
   "source": [
    "## Task 1: Create a support vector classifier (SVC) using a linear kernel\n",
    "\n",
    "### 1.1: Train it with the whole dataset\n",
    "Use a simple linear kernel for the SVC and name the classifier object as `svc`.\n",
    "Almost all classifiers in scikit-learn implement the following methods:\n",
    "\n",
    "* `fit(data, target)` for training the model. This method changes the model's parameters and has a lasting effect.\n",
    "* `predict(data)` for predicting outputs for `data` on an already trained model.\n",
    "* `fit_predict(data, target)` combinines the two above. (What is wrong with it, and what legitimate purpose could it still serve?)\n",
    "* `score(data, target)` predicts outputs for `data` and immediately compares the predicted output with `target`, returning the accuracy.\n",
    "\n",
    "First, simply train the model with the entire dataset."
   ]
  },
  {
   "cell_type": "code",
   "execution_count": 5,
   "metadata": {
    "scrolled": false
   },
   "outputs": [
    {
     "data": {
      "text/plain": [
       "SVC(kernel='linear')"
      ]
     },
     "execution_count": 5,
     "metadata": {},
     "output_type": "execute_result"
    }
   ],
   "source": [
    "# fit svc model\n",
    "svc = SVC(kernel='linear')\n",
    "svc.fit(data, target)"
   ]
  },
  {
   "cell_type": "markdown",
   "metadata": {},
   "source": [
    "### 1.2: Evaluate its accuracy on the training data\n",
    "\n",
    "As discussed in the lecture, evaluating a machine learning model on the exact same data that you had trained it with won't tell you about the model's real accuracy, but it does tell you whether it is able to learn at all (in the worst case, mere memorization).\n",
    "\n",
    "So, what is the model's accuracy on the training data, and consequently, what is the training error?"
   ]
  },
  {
   "cell_type": "code",
   "execution_count": 6,
   "metadata": {
    "scrolled": true
   },
   "outputs": [
    {
     "name": "stdout",
     "output_type": "stream",
     "text": [
      "ACCURACY: 1.0\n",
      "ERROR: 0.0\n"
     ]
    }
   ],
   "source": [
    "# calculate accuracy\n",
    "print('ACCURACY:', svc.score(data, target))\n",
    "print('ERROR:', 1-svc.score(data, target))"
   ]
  },
  {
   "cell_type": "markdown",
   "metadata": {},
   "source": [
    "### 1.3: Compare the separating hyperplane's direction with the 4 direction vectors from yesterday's PCA\n",
    "\n",
    "One advantage of linear SVM's is that the separating hyperplane is somewhat analogous to the direction vectors of the PCA algorithm. The hyperplane's direction (defined by its normal vector) tells us the weighted contribution of each feature in the classifier's decision.\n",
    "\n",
    "To save you the trouble of moving code between sheets, we provide the PCA code below, and have put the principal direction vectors in `directions_df`. Add the separating hyperplane as a new column `linear_hyperplane`, and find a way to compare it with the principal direction vectors. Discuss what you found.\n",
    "\n",
    "Hint: The separating hyperplane's direction (feature weights) are an attribute of a trained linear SVM object. [Find out where and how it is stored.](https://scikit-learn.org/stable/modules/generated/sklearn.svm.LinearSVC.html)\n",
    "\n",
    "You can compare this direction with the PCA's direction vectors by calculating their correlation. What do you find?"
   ]
  },
  {
   "cell_type": "code",
   "execution_count": 7,
   "metadata": {
    "scrolled": true
   },
   "outputs": [
    {
     "data": {
      "text/html": [
       "<div>\n",
       "<style scoped>\n",
       "    .dataframe tbody tr th:only-of-type {\n",
       "        vertical-align: middle;\n",
       "    }\n",
       "\n",
       "    .dataframe tbody tr th {\n",
       "        vertical-align: top;\n",
       "    }\n",
       "\n",
       "    .dataframe thead th {\n",
       "        text-align: right;\n",
       "    }\n",
       "</style>\n",
       "<table border=\"1\" class=\"dataframe\">\n",
       "  <thead>\n",
       "    <tr style=\"text-align: right;\">\n",
       "      <th></th>\n",
       "      <th>pd1</th>\n",
       "      <th>pd2</th>\n",
       "      <th>pd3</th>\n",
       "      <th>pd4</th>\n",
       "      <th>linear_hyperplane</th>\n",
       "    </tr>\n",
       "  </thead>\n",
       "  <tbody>\n",
       "    <tr>\n",
       "      <th>pd1</th>\n",
       "      <td>1.000000</td>\n",
       "      <td>-0.005243</td>\n",
       "      <td>0.002611</td>\n",
       "      <td>0.000787</td>\n",
       "      <td>0.613760</td>\n",
       "    </tr>\n",
       "    <tr>\n",
       "      <th>pd2</th>\n",
       "      <td>-0.005243</td>\n",
       "      <td>1.000000</td>\n",
       "      <td>0.015440</td>\n",
       "      <td>0.004657</td>\n",
       "      <td>-0.481925</td>\n",
       "    </tr>\n",
       "    <tr>\n",
       "      <th>pd3</th>\n",
       "      <td>0.002611</td>\n",
       "      <td>0.015440</td>\n",
       "      <td>1.000000</td>\n",
       "      <td>-0.002319</td>\n",
       "      <td>-0.335037</td>\n",
       "    </tr>\n",
       "    <tr>\n",
       "      <th>pd4</th>\n",
       "      <td>0.000787</td>\n",
       "      <td>0.004657</td>\n",
       "      <td>-0.002319</td>\n",
       "      <td>1.000000</td>\n",
       "      <td>0.080183</td>\n",
       "    </tr>\n",
       "    <tr>\n",
       "      <th>linear_hyperplane</th>\n",
       "      <td>0.613760</td>\n",
       "      <td>-0.481925</td>\n",
       "      <td>-0.335037</td>\n",
       "      <td>0.080183</td>\n",
       "      <td>1.000000</td>\n",
       "    </tr>\n",
       "  </tbody>\n",
       "</table>\n",
       "</div>"
      ],
      "text/plain": [
       "                        pd1       pd2       pd3       pd4  linear_hyperplane\n",
       "pd1                1.000000 -0.005243  0.002611  0.000787           0.613760\n",
       "pd2               -0.005243  1.000000  0.015440  0.004657          -0.481925\n",
       "pd3                0.002611  0.015440  1.000000 -0.002319          -0.335037\n",
       "pd4                0.000787  0.004657 -0.002319  1.000000           0.080183\n",
       "linear_hyperplane  0.613760 -0.481925 -0.335037  0.080183           1.000000"
      ]
     },
     "execution_count": 7,
     "metadata": {},
     "output_type": "execute_result"
    }
   ],
   "source": [
    "# fit pca model\n",
    "pca = PCA(n_components=4)\n",
    "pca.fit(data)\n",
    "\n",
    "directions_df = pd.DataFrame(pca.components_.T, index=data.columns, columns=['pd1', 'pd2', 'pd3', 'pd4'])  # each principal direction is a column vector now\n",
    "\n",
    "directions_df['linear_hyperplane'] = svc.coef_[0]\n",
    "\n",
    "directions_df.corr()"
   ]
  },
  {
   "cell_type": "code",
   "execution_count": 8,
   "metadata": {},
   "outputs": [
    {
     "data": {
      "text/plain": [
       "array([109.6391427 ,  88.69803886,  73.4396326 ,  58.59133175])"
      ]
     },
     "execution_count": 8,
     "metadata": {},
     "output_type": "execute_result"
    }
   ],
   "source": [
    "pca.singular_values_"
   ]
  },
  {
   "cell_type": "markdown",
   "metadata": {},
   "source": [
    "### 1.4: Validate the model in a legitimate way\n",
    "In 1.2 we asked you to evaluate the model with the same data you had trained it with. It's a poor (and borderline criminal) way to test a model's accuracy, since you can't tell whether the model has just memorized the exact inputs and expected outputs, or whether it truly found generalizable patterns in the data. The former scenario is called *overfitting*.\n",
    "\n",
    "This time, train the model with one half of the data, and validate its accuracy on the other half. It will ensure that the test data will be new for the classifier, and it can't simply recall their output labels.\n",
    "\n",
    "Keep it simple for now, first half of the rows for training and second half for validating should be good enough."
   ]
  },
  {
   "cell_type": "code",
   "execution_count": 9,
   "metadata": {},
   "outputs": [
    {
     "name": "stdout",
     "output_type": "stream",
     "text": [
      "ACCURACY: 1.0\n"
     ]
    }
   ],
   "source": [
    "svc.fit(data[:len(data)//2], target[:len(data)//2])\n",
    "print('ACCURACY:', svc.score(data[len(data)//2:], target[len(data)//2:]))"
   ]
  },
  {
   "cell_type": "markdown",
   "metadata": {},
   "source": [
    "### 1.5: Reduce the number of features\n",
    "You may have found that the model still performs perfectly, and it was successful at learning the structure of the data instead of just memorizing the training data. This a good sign, and it shows that it's not challenging for an SVM to distinguish the two diets from the full expression dataset. Let's make the SVM sweat a bit.\n",
    "\n",
    "Try cutting down the number of used features up to the point that validation is no longer fully accurate, and the model starts making mistakes. You can use a DataFrame's `.sample(...)` method to select a given number of random rows (that's not what we want) or columns (`axis=1`). Store the reduced data in `data2 = data.sample(...)`.\n",
    "\n",
    "You can simply re-run the same jupyter cell with decreasing sampling: we don't expect a graph or exhaustive measurements here, just find one small enough value that the accuracy isn't perfect anymore."
   ]
  },
  {
   "cell_type": "code",
   "execution_count": 10,
   "metadata": {},
   "outputs": [
    {
     "name": "stdout",
     "output_type": "stream",
     "text": [
      "ACCURACY: 0.8205128205128205\n"
     ]
    }
   ],
   "source": [
    "# reduce the number of feature and calculate accuracy\n",
    "data2 = data.sample(n=20, axis=1)\n",
    "svc.fit(data2[:len(data2)//2], target[:len(data2)//2])\n",
    "print('ACCURACY:', svc.score(data2[len(data2)//2:], target[len(data2)//2:]))"
   ]
  },
  {
   "cell_type": "markdown",
   "metadata": {},
   "source": [
    "### 1.6: Perform cross-validation\n",
    "Previously you had separated your data into a disjoint training and testing set, trained the model with the training set and computed its accuracy on the testing set. But you could also switch them around (train with the second half and test on the first half) and compute a second accuracy value. The average of those two values would give you an even better estimate of the real accuracy. This would be called a *2-fold cross-validation*.\n",
    "\n",
    "3-fold cross-validation is when you split your data to D1/D2/D3 thirds, train the model with D1+D2 and test on D3. Then train with D1+D3 and test on D2, finally train with D2+D3 and test on D1. The average of the three accuracy values would be your model's 3-fold cross-validated accuracy.\n",
    "\n",
    "(Sidenote: the *model* is the SVM with whatever parameters it has (linear + defaults) and the features that you use. During cross-validation you test different *instances* of the same model: you train them with different data so they will all end up slightly different, you test them with different data so the accuracy estimates will also be different, but you are validating the same *model* all along.)\n",
    "\n",
    "`sklearn` gives you helper classes to split your data into training and testing sets following a cross-validation scheme, saving you most of the legwork. Some classes even support features like random shuffling, stratification (keeping labels balanced across training/testing classes) or repeated cross-validation, passing over the dataset multiple times with different random train/test folds."
   ]
  },
  {
   "cell_type": "markdown",
   "metadata": {},
   "source": [
    "### 1.6.1: Use KFold cross-validation with k=3\n",
    "\n",
    "All cross-validator objects have a `.split(data)` method which creates an iterator that returns two elements in each iteration. The first element is the numeric indices of the rows that should be used for training, and the second element is the numeric indices of the rows to be used for testing.\n",
    "\n",
    "You can slice your `data` and `target` into `data_train` and `target_train` with `.iloc[train_idx]`, and obviously also into `data_test` and `target_test` with `.iloc[test_idx]`.\n",
    "\n",
    "In each fold, calculate the accuracy of the test folds, collect their results and finally calculate their average."
   ]
  },
  {
   "cell_type": "code",
   "execution_count": 11,
   "metadata": {},
   "outputs": [
    {
     "name": "stdout",
     "output_type": "stream",
     "text": [
      "ACCURACY:  0.8461538461538461\n"
     ]
    }
   ],
   "source": [
    "# fit kfold model with 3 and calculate accuracy\n",
    "kf = KFold(n_splits=3)\n",
    "\n",
    "acc = []\n",
    "\n",
    "for train_idx, test_idx in kf.split(data2):\n",
    "\n",
    "    data_train = data2.iloc[train_idx]\n",
    "    target_train = target.iloc[train_idx]\n",
    "    \n",
    "    data_test = data2.iloc[test_idx]\n",
    "    target_test = target.iloc[test_idx]\n",
    "    \n",
    "    svc_cv = SVC(kernel = \"linear\").fit(data_train, target_train)\n",
    "    acc.append(svc_cv.score(data_test,target_test))\n",
    "\n",
    "print(\"ACCURACY: \", np.mean(acc))"
   ]
  },
  {
   "cell_type": "markdown",
   "metadata": {},
   "source": [
    "### 1.6.2: Use a fancy cross-validator of your choice\n",
    "Your cross-validation results depended on the data's original ordering, since KFold just slices your data into contiguous blocks. It your data had been ordered differently (for example, all CD samples at the beginning, all HFD at the end) the KFold method would have ended up with massively imbalanced labels in different folds.\n",
    "\n",
    "To prevent this, there are cross-validators that either shuffle the data before cutting it into folds, or actively monitor the labels and ensure that the folds are balanced in their target label composition. Try out some of these."
   ]
  },
  {
   "cell_type": "code",
   "execution_count": 12,
   "metadata": {},
   "outputs": [
    {
     "name": "stdout",
     "output_type": "stream",
     "text": [
      "ACCURACT:  0.8525641025641025\n"
     ]
    }
   ],
   "source": [
    "# kfold is not enough, so use repeat kfold function to verify accuracy\n",
    "rskf = RepeatedStratifiedKFold(n_splits=2, n_repeats=2)\n",
    "\n",
    "acc = []\n",
    "\n",
    "for train_idx, test_idx in rskf.split(data2,target):\n",
    "    data_train = data2.iloc[train_idx]\n",
    "    target_train = target.iloc[train_idx]\n",
    "    \n",
    "    data_test = data2.iloc[test_idx]\n",
    "    target_test = target.iloc[test_idx]\n",
    "    \n",
    "    svc_cv = SVC(kernel = \"linear\").fit(data_train, target_train)\n",
    "    acc.append(svc_cv.score(data_test,target_test))\n",
    "\n",
    "print(\"ACCURACT: \", np.mean(acc))"
   ]
  },
  {
   "cell_type": "markdown",
   "metadata": {},
   "source": [
    "### 1.6.3: Use the convenience function `cross_val_score`\n",
    "\n",
    "Scikit-learn provides a handful of convenience functions so that you don't have to write for-loops to train, test and aggregate results. The function `cross_val_score` takes a machine learning model, your data, the target labels, and a cross-validator object, and returns the fold accuracies in a numpy array.\n",
    "\n",
    "If you also want to obtain the predicted labels (instead of just the accuracies) that each test fold produced, it can also aggregate those for you with another convenience function called `cross_val_predict`. This is especially useful if you are interested in the particular samples where the model's predictions failed. It also allows you to evaluate more fine-grained performance metrics of the model, such as sensitivity, specificity, etc. But it's enough to use `cross_val_score` now."
   ]
  },
  {
   "cell_type": "code",
   "execution_count": 13,
   "metadata": {},
   "outputs": [
    {
     "data": {
      "text/plain": [
       "array([0.8125, 0.75  , 0.875 , 1.    , 0.8   ])"
      ]
     },
     "execution_count": 13,
     "metadata": {},
     "output_type": "execute_result"
    }
   ],
   "source": [
    "cross_val_score(svc,data2,target)"
   ]
  },
  {
   "cell_type": "code",
   "execution_count": 14,
   "metadata": {},
   "outputs": [
    {
     "data": {
      "text/plain": [
       "array([0, 1, 1, 1, 0, 1, 0, 0, 0, 1, 0, 1, 0, 0, 0, 1, 0, 1, 0, 1, 1, 0,\n",
       "       0, 1, 0, 0, 0, 1, 0, 1, 1, 1, 0, 0, 0, 1, 0, 1, 0, 1, 0, 1, 0, 1,\n",
       "       0, 1, 1, 1, 0, 1, 0, 1, 0, 1, 0, 1, 0, 1, 0, 1, 0, 1, 0, 0, 0, 1,\n",
       "       1, 1, 0, 1, 0, 1, 1, 1, 0, 1, 0, 1], dtype=int64)"
      ]
     },
     "execution_count": 14,
     "metadata": {},
     "output_type": "execute_result"
    }
   ],
   "source": [
    "cross_val_predict(svc,data2,target)"
   ]
  },
  {
   "cell_type": "markdown",
   "metadata": {},
   "source": [
    "### 1.7: Add noise to test the SVM's robustness\n",
    "\n",
    "Using the small `data2` dataset (with <50 features) add increasing amounts of random noise to the data. Numpy's `np.random.randn(*data2.shape)` will generate a matrix with normally distributed random values, which you can multiply with a scaling factor, and add to `data2`.\n",
    "\n",
    "Plot the model's accuracy against the noise level. You can use a `RepeatedKFold` or `RepeatedStratifiedKFold` cross-validator object to get more precise accuracy values in each step, making your graph a bit smoother."
   ]
  },
  {
   "cell_type": "code",
   "execution_count": 15,
   "metadata": {},
   "outputs": [
    {
     "data": {
      "text/plain": [
       "Text(0, 0.5, 'accuracy')"
      ]
     },
     "execution_count": 15,
     "metadata": {},
     "output_type": "execute_result"
    },
    {
     "data": {
      "image/png": "[encoded data removed]",
      "text/plain": [
       "<Figure size 432x288 with 1 Axes>"
      ]
     },
     "metadata": {
      "needs_background": "light"
     },
     "output_type": "display_data"
    }
   ],
   "source": [
    "noise = np.random.randn(*data2.shape)\n",
    "noise_levels = np.linspace(0,1,10)\n",
    "acc = []\n",
    "for i in noise_levels:\n",
    "    test_data = data2+i*noise\n",
    "    acc.append(cross_val_score(svc,test_data,target).mean())\n",
    "plt.plot(acc)\n",
    "plt.xlabel('noise level')\n",
    "plt.ylabel('accuracy')"
   ]
  },
  {
   "cell_type": "code",
   "execution_count": 16,
   "metadata": {
    "scrolled": false
   },
   "outputs": [
    {
     "name": "stdout",
     "output_type": "stream",
     "text": [
      "ACCURACT:  0.8846153846153846\n",
      "ACCURACT:  0.842948717948718\n",
      "ACCURACT:  0.814102564102564\n",
      "ACCURACT:  0.7836538461538461\n",
      "ACCURACT:  0.7628205128205128\n",
      "ACCURACT:  0.7489316239316239\n",
      "ACCURACT:  0.7380952380952382\n",
      "ACCURACT:  0.71875\n",
      "ACCURACT:  0.6930199430199431\n",
      "ACCURACT:  0.6775641025641026\n"
     ]
    },
    {
     "data": {
      "image/png": "[encoded data removed]",
      "text/plain": [
       "<Figure size 432x288 with 1 Axes>"
      ]
     },
     "metadata": {
      "needs_background": "light"
     },
     "output_type": "display_data"
    }
   ],
   "source": [
    "noise = np.random.randn(*data2.shape)\n",
    "noise_levels = np.linspace(0,1,10)\n",
    "acc = []\n",
    "for i in noise_levels:\n",
    "    test_data = data2+i*noise\n",
    "    for train_idx, test_idx in rskf.split(test_data,target):\n",
    "        data_train = test_data.iloc[train_idx]\n",
    "        target_train = target.iloc[train_idx]\n",
    "\n",
    "        data_test = test_data.iloc[test_idx]\n",
    "        target_test = target.iloc[test_idx]\n",
    "\n",
    "        svc_cv = SVC(kernel = \"linear\").fit(data_train, target_train)\n",
    "        acc.append(svc_cv.score(data_test,target_test))\n",
    "\n",
    "    print(\"ACCURACT: \", np.mean(acc))\n",
    "plt.plot(acc)\n",
    "plt.xlabel('noise level')\n",
    "plt.ylabel('accuracy')\n",
    "plt.show()"
   ]
  },
  {
   "cell_type": "markdown",
   "metadata": {},
   "source": [
    "### 1.8: Optional: Create a training error / testing error graph as a function of noise\n",
    "\n",
    "For this, you will have to revert to using `for` loops because `cross_val_score` does not return the training accuracy values, so you have to obtain them manually."
   ]
  },
  {
   "cell_type": "code",
   "execution_count": 17,
   "metadata": {},
   "outputs": [
    {
     "data": {
      "text/plain": [
       "Text(0, 0.5, 'accuracy')"
      ]
     },
     "execution_count": 17,
     "metadata": {},
     "output_type": "execute_result"
    },
    {
     "data": {
      "image/png": "[encoded data removed]",
      "text/plain": [
       "<Figure size 432x288 with 1 Axes>"
      ]
     },
     "metadata": {
      "needs_background": "light"
     },
     "output_type": "display_data"
    }
   ],
   "source": [
    "noise = np.random.randn(*data2.shape)\n",
    "noise_levels = np.linspace(0,1,10)\n",
    "acc_test = []\n",
    "acc_train = []\n",
    "for i in noise_levels:\n",
    "    test = []\n",
    "    train = []\n",
    "    test_data = data2+i*noise\n",
    "    for train_idx, test_idx in rskf.split(test_data,target):\n",
    "        data_train = test_data.iloc[train_idx]\n",
    "        target_train = target.iloc[train_idx]\n",
    "\n",
    "        data_test = test_data.iloc[test_idx]\n",
    "        target_test = target.iloc[test_idx]\n",
    "\n",
    "        svc_cv = SVC(kernel = \"linear\").fit(data_train, target_train)\n",
    "        train.append(svc_cv.score(data_test,target_test))\n",
    "        test.append(svc_cv.score(data_test,target_test))\n",
    "    \n",
    "    acc_train.append(np.mean(train))\n",
    "    acc_test.append(np.mean(test))\n",
    "plt.plot(acc_test)\n",
    "plt.xlabel('noise level')\n",
    "plt.ylabel('accuracy')"
   ]
  }
 ],
 "metadata": {
  "kernelspec": {
   "display_name": "firstEnv",
   "language": "python",
   "name": "firstenv"
  },
  "language_info": {
   "codemirror_mode": {
    "name": "ipython",
    "version": 3
   },
   "file_extension": ".py",
   "mimetype": "text/x-python",
   "name": "python",
   "nbconvert_exporter": "python",
   "pygments_lexer": "ipython3",
   "version": "3.7.9"
  }
 },
 "nbformat": 4,
 "nbformat_minor": 2
}
